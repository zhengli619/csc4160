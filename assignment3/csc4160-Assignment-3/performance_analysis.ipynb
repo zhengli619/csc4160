{
  "cells": [
    {
      "cell_type": "markdown",
      "metadata": {},
      "source": [
        "# **AWS Lambda Performance Analysis**\n",
        "\n",
        "Consume and parse Locust logs to get the distribution of performance.\n",
        "\n",
        "Created by Juan Albert Wibowo on Oct 8, 2024"
      ]
    },
    {
      "cell_type": "markdown",
      "metadata": {},
      "source": [
        "### **Plot Line Graph of Performance Over Time**"
      ]
    },
    {
      "cell_type": "markdown",
      "metadata": {},
      "source": [
        "_Note_: Ensure that `test_locust_logs.txt` is located in the same directory as your Notebook file."
      ]
    },
    {
      "cell_type": "code",
      "execution_count": null,
      "metadata": {
        "colab": {
          "base_uri": "https://localhost:8080/",
          "height": 607
        },
        "id": "1YYu92FPeH9A",
        "outputId": "0705f247-c0a2-479c-eb0f-a9803a3e79ee"
      },
      "outputs": [],
      "source": [
        "import matplotlib.pyplot as plt\n",
        "import numpy as np\n",
        "import re\n",
        "from datetime import datetime\n",
        "\n",
        "# Initialize lists for storing data\n",
        "response_times = []\n",
        "request_times = []\n",
        "\n",
        "# Open and read the log file\n",
        "with open(\"locust_logs/test_locust_logs.txt\", \"r\") as file:\n",
        "    for line in file:\n",
        "        # Regex to capture time and response time\n",
        "        match = re.search(r\"\\[(\\d{4}-\\d{2}-\\d{2}) (\\d{2}:\\d{2}:\\d{2},\\d{3})\\].*Response time: (\\d+\\.\\d+) ms\", line)\n",
        "        if match:\n",
        "            request_time_str = match.group(2)  # Extract time\n",
        "            response_time = float(match.group(3))  # Extract response time\n",
        "\n",
        "            # Convert request time to datetime object\n",
        "            request_time = datetime.strptime(request_time_str, \"%H:%M:%S,%f\")\n",
        "\n",
        "            # Store data\n",
        "            request_times.append(request_time)\n",
        "            response_times.append(response_time)\n",
        "\n",
        "# Convert request_times to a format suitable for plotting (just time)\n",
        "request_times = [t.strftime(\"%H:%M:%S\") for t in request_times]\n",
        "\n",
        "# Calculate p50, p95, and max for every 50 response times\n",
        "step_size = 4  # Change this value to reduce the density\n",
        "p50_values = []\n",
        "p95_values = []\n",
        "max_values = []\n",
        "time_labels = []\n",
        "\n",
        "for i in range(0, len(response_times), step_size):\n",
        "    segment = response_times[i:i + step_size]\n",
        "    if segment:  # Ensure the segment is not empty\n",
        "        p50 = np.percentile(segment, 50)\n",
        "        p95 = np.percentile(segment, 95)\n",
        "        max_response = max(segment)\n",
        "\n",
        "        p50_values.append(p50)\n",
        "        p95_values.append(p95)\n",
        "        max_values.append(max_response)\n",
        "        time_labels.append(request_times[i])  # Use the starting time of the segment for x-axis\n",
        "\n",
        "# Prepare data for plotting\n",
        "x_indices = np.arange(len(time_labels))\n",
        "\n",
        "# Create a figure and axis\n",
        "plt.figure(figsize=(12, 6))\n",
        "\n",
        "# Plot p50, p95, and max as points\n",
        "plt.scatter(x_indices, p50_values, marker='o', color='blue', label='p50', zorder=3)\n",
        "plt.scatter(x_indices, p95_values, marker='o', color='orange', label='p95', zorder=3)\n",
        "plt.scatter(x_indices, max_values, marker='o', color='green', label='max', zorder=3)\n",
        "\n",
        "# Connect points with lines for better visualization\n",
        "plt.plot(x_indices, p50_values, color='blue', linestyle='-', linewidth=2, alpha=0.5)\n",
        "plt.plot(x_indices, p95_values, color='orange', linestyle='-', linewidth=2, alpha=0.5)\n",
        "plt.plot(x_indices, max_values, color='green', linestyle='-', linewidth=2, alpha=0.5)\n",
        "\n",
        "# Set the x-ticks to be the time labels\n",
        "plt.xticks(x_indices, time_labels, rotation=45)\n",
        "\n",
        "# Adding labels and title\n",
        "plt.title(\"Performance Over Time\")\n",
        "plt.xlabel(\"Request At\")\n",
        "plt.ylabel(\"Response Time (ms)\")\n",
        "plt.grid(True)\n",
        "plt.legend()  # Add a legend\n",
        "\n",
        "# Show the plot\n",
        "plt.tight_layout()\n",
        "plt.show()\n"
      ]
    },
    {
      "cell_type": "markdown",
      "metadata": {},
      "source": [
        "### **Plot Histogram of Request Times During Cold Start and Warm Requests**"
      ]
    },
    {
      "cell_type": "code",
      "execution_count": null,
      "metadata": {
        "colab": {
          "base_uri": "https://localhost:8080/",
          "height": 1000
        },
        "id": "xAaquxMkdyMv",
        "outputId": "f7c615e0-6ee5-445b-f42b-d883c79b5457"
      },
      "outputs": [],
      "source": [
        "import matplotlib.pyplot as plt\n",
        "import numpy as np\n",
        "import re\n",
        "from datetime import datetime\n",
        "\n",
        "# Initialize lists for storing data\n",
        "response_times = []\n",
        "request_times = []\n",
        "\n",
        "# Open and read the log file\n",
        "with open(\"locust_logs/test_locust_logs.txt\", \"r\") as file:\n",
        "    for line in file:\n",
        "        # Regex to capture time and response time\n",
        "        match = re.search(r\"\\[(\\d{4}-\\d{2}-\\d{2}) (\\d{2}:\\d{2}:\\d{2},\\d{3})\\].*Response time: (\\d+\\.\\d+) ms\", line)\n",
        "        if match:\n",
        "            request_time_str = match.group(2)  # Extract time\n",
        "            response_time = float(match.group(3))  # Extract response time\n",
        "\n",
        "            # Convert request time to datetime object\n",
        "            request_time = datetime.strptime(request_time_str, \"%H:%M:%S,%f\")\n",
        "\n",
        "            # Store data\n",
        "            request_times.append(request_time)\n",
        "            response_times.append(response_time)\n",
        "\n",
        "# Specify the cold start end time\n",
        "cold_start_end_time_str = \"22:22:44,666\"# Estimated cold start end time, e.g., \"22:59:26,000\"\n",
        "cold_start_end_time = datetime.strptime(cold_start_end_time_str, \"%H:%M:%S,%f\")\n",
        "\n",
        "# Separate cold start and warm request response times\n",
        "cold_start_response_times = [response_times[i] for i in range(len(request_times)) if request_times[i] <= cold_start_end_time]\n",
        "warm_response_times = [response_times[i] for i in range(len(request_times)) if request_times[i] > cold_start_end_time]\n",
        "\n",
        "# Function to plot histogram and metrics\n",
        "def plot_histogram(response_data, title):\n",
        "    # Calculate percentiles and mean\n",
        "    p5 = np.percentile(response_data, 5)\n",
        "    p50 = np.percentile(response_data, 50)\n",
        "    p95 = np.percentile(response_data, 95)\n",
        "    mean_response_time = np.mean(response_data)\n",
        "\n",
        "    # Create the histogram\n",
        "    plt.figure(figsize=(12, 6))\n",
        "    plt.hist(response_data, bins=30, alpha=0.7, color='blue', edgecolor='black')\n",
        "\n",
        "    # Adding lines for percentiles and mean\n",
        "    plt.axvline(p5, color='purple', linestyle='--', linewidth=2, label='5th Percentile')\n",
        "    plt.axvline(p50, color='green', linestyle='--', linewidth=2, label='50th Percentile (Median)')\n",
        "    plt.axvline(p95, color='orange', linestyle='--', linewidth=2, label='95th Percentile')\n",
        "    plt.axvline(mean_response_time, color='red', linestyle='-', linewidth=2, label='Mean')\n",
        "\n",
        "    # Adding labels and title\n",
        "    plt.title(title)\n",
        "    plt.xlabel(\"Response Time (ms)\")\n",
        "    plt.ylabel(\"Number of Requests\")\n",
        "    plt.legend()\n",
        "    plt.grid(True)\n",
        "\n",
        "    # Show the plot\n",
        "    plt.tight_layout()\n",
        "    plt.show()\n",
        "\n",
        "# Plot histograms for cold start and warm requests\n",
        "plot_histogram(cold_start_response_times, \"Histogram of Response Times During Cold Start\")\n",
        "plot_histogram(warm_response_times, \"Histogram of Response Times During Warm Requests\")\n"
      ]
    }
  ],
  "metadata": {
    "colab": {
      "provenance": []
    },
    "kernelspec": {
      "display_name": "Python 3",
      "name": "python3"
    },
    "language_info": {
      "name": "python",
      "version": "3.12.6"
    }
  },
  "nbformat": 4,
  "nbformat_minor": 0
}
